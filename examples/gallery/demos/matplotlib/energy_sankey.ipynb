{
 "cells": [
  {
   "cell_type": "code",
   "execution_count": null,
   "metadata": {},
   "outputs": [],
   "source": [
    "import json\n",
    "import pandas as pd\n",
    "import holoviews as hv\n",
    "\n",
    "hv.extension('matplotlib')\n",
    "\n",
    "%output fig='svg'"
   ]
  },
  {
   "cell_type": "markdown",
   "metadata": {},
   "source": [
    "## Declare data"
   ]
  },
  {
   "cell_type": "code",
   "execution_count": null,
   "metadata": {},
   "outputs": [],
   "source": [
    "with open('../../../assets/energy.json') as f:\n",
    "    data = json.loads(f.read())\n",
    "edges = pd.DataFrame(data['links'])\n",
    "nodes = pd.DataFrame(data['nodes'])\n",
    "edges['source'] = nodes['name'].values[edges['source'].values]\n",
    "edges['target'] = nodes['name'].values[edges['target'].values]\n",
    "\n",
    "sankey = hv.Sankey((edges, nodes))"
   ]
  },
  {
   "cell_type": "markdown",
   "metadata": {},
   "source": [
    "## Plot"
   ]
  },
  {
   "cell_type": "code",
   "execution_count": null,
   "metadata": {},
   "outputs": [],
   "source": [
    "sankey.options(label_position='left')"
   ]
  }
 ],
 "metadata": {
  "language_info": {
   "name": "python",
   "pygments_lexer": "ipython3"
  }
 },
 "nbformat": 4,
 "nbformat_minor": 2
}
